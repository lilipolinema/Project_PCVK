{
  "nbformat": 4,
  "nbformat_minor": 0,
  "metadata": {
    "colab": {
      "name": "rice_diseases.ipynb",
      "provenance": [],
      "collapsed_sections": [],
      "include_colab_link": true
    },
    "kernelspec": {
      "name": "python3",
      "display_name": "Python 3"
    },
    "language_info": {
      "name": "python"
    }
  },
  "cells": [
    {
      "cell_type": "markdown",
      "metadata": {
        "id": "view-in-github",
        "colab_type": "text"
      },
      "source": [
        "<a href=\"https://colab.research.google.com/github/lilipolinema/Project_PCVK/blob/master/rice_diseases.ipynb\" target=\"_parent\"><img src=\"https://colab.research.google.com/assets/colab-badge.svg\" alt=\"Open In Colab\"/></a>"
      ]
    },
    {
      "cell_type": "markdown",
      "metadata": {
        "id": "UJsiO6aNP09k"
      },
      "source": [
        "![image.png](data:image/png;base64,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)"
      ]
    },
    {
      "cell_type": "markdown",
      "metadata": {
        "id": "GWjGpxnBQKVa"
      },
      "source": [
        "cek sini : [ilkom](https://ilkom.unnes.ac.id/snik/prosiding/2016/16.%20SNIK_339_Identifikasi%20Penyakit%20Padi.pdf)"
      ]
    },
    {
      "cell_type": "code",
      "metadata": {
        "id": "h-8Pn2O8aRL-"
      },
      "source": [
        "import numpy as np\n",
        "import matplotlib.pyplot as plt\n",
        "import os\n",
        "import cv2\n",
        "from tqdm import tqdm\n",
        "import pathlib\n",
        "import random\n",
        "from tensorflow.keras.preprocessing.image import ImageDataGenerator\n",
        "from math import log10, sqrt\n",
        "import glob"
      ],
      "execution_count": null,
      "outputs": []
    },
    {
      "cell_type": "code",
      "metadata": {
        "colab": {
          "base_uri": "https://localhost:8080/"
        },
        "id": "WpEpZJzKbbSc",
        "outputId": "01f299ae-27cf-4e53-cdfc-05c00ef3601a"
      },
      "source": [
        "from google.colab import drive\n",
        "drive.mount('/content/drive')"
      ],
      "execution_count": null,
      "outputs": [
        {
          "output_type": "stream",
          "text": [
            "Mounted at /content/drive\n"
          ],
          "name": "stdout"
        }
      ]
    },
    {
      "cell_type": "code",
      "metadata": {
        "colab": {
          "base_uri": "https://localhost:8080/"
        },
        "id": "XLUFo1LrbpOf",
        "outputId": "24b2b58a-3363-433d-9ab7-1e260eab28b8"
      },
      "source": [
        "# direktori data training\n",
        "Images = '/content/drive/MyDrive/PCVK/UAS'\n",
        "\n",
        "# List folder\n",
        "os.listdir(Images)"
      ],
      "execution_count": null,
      "outputs": [
        {
          "output_type": "execute_result",
          "data": {
            "text/plain": [
              "['Leaf smut', 'Brown spot', 'Bacterial leaf blight']"
            ]
          },
          "metadata": {
            "tags": []
          },
          "execution_count": 6
        }
      ]
    },
    {
      "cell_type": "code",
      "metadata": {
        "id": "dYiWqsEFbsXa"
      },
      "source": [
        "# normalisasi dan menggunakan data 20 %\n",
        "#image_generator = ImageDataGenerator(rescale = 1./255,validation_split= 0.2)"
      ],
      "execution_count": null,
      "outputs": []
    },
    {
      "cell_type": "code",
      "metadata": {
        "colab": {
          "base_uri": "https://localhost:8080/"
        },
        "id": "-4u2wK4fcUrE",
        "outputId": "f1412550-7965-4630-ccde-4412c207c09e"
      },
      "source": [
        "# Generate 40 images\n",
        "# Training 80% (96) and validasi 20%(24)\n",
        "# shuffling dan resizing gambar\n",
        "\n",
        "#train_generator = image_generator.flow_from_directory(batch_size = 40, directory= Images, shuffle= True, target_size=(256,256), class_mode = 'categorical', subset=\"training\")"
      ],
      "execution_count": null,
      "outputs": [
        {
          "output_type": "stream",
          "text": [
            "Found 96 images belonging to 3 classes.\n"
          ],
          "name": "stdout"
        }
      ]
    },
    {
      "cell_type": "code",
      "metadata": {
        "colab": {
          "base_uri": "https://localhost:8080/"
        },
        "id": "9ZBVG6ZsccBK",
        "outputId": "2847b38d-7511-4e5d-9014-449095d6d282"
      },
      "source": [
        "#validation_generator = image_generator.flow_from_directory(batch_size = 40, directory= Images, shuffle= True, target_size=(256,256), class_mode = 'categorical', subset=\"validation\")"
      ],
      "execution_count": null,
      "outputs": [
        {
          "output_type": "stream",
          "text": [
            "Found 24 images belonging to 3 classes.\n"
          ],
          "name": "stdout"
        }
      ]
    },
    {
      "cell_type": "code",
      "metadata": {
        "id": "4tGCYcW8chH6"
      },
      "source": [
        "# simpan gambar ke leaf_smut untuk kategori leaf smut\n",
        "img_leafsmut = []\n",
        "for img_smut in glob.glob('/content/drive/MyDrive/PCVK/UAS/Leaf smut/*.jpg'):\n",
        "  n = cv2.imread(img_smut)\n",
        "  img_leafsmut.append(n)"
      ],
      "execution_count": null,
      "outputs": []
    },
    {
      "cell_type": "code",
      "metadata": {
        "id": "bulrdRjX3XMx"
      },
      "source": [
        "# simpan gambar ke bacterial untuk kategori leaf bacterial\n",
        "img_bacterial = []\n",
        "for img_bact in glob.glob('/content/drive/MyDrive/PCVK/UAS/Bacterial leaf blight/*.jpg'):\n",
        "  n = cv2.imread(img_bact)\n",
        "  img_bacterial.append(n)"
      ],
      "execution_count": null,
      "outputs": []
    },
    {
      "cell_type": "code",
      "metadata": {
        "id": "VLlujsIa36HG"
      },
      "source": [
        "# simpan gambar ke brown_spot untuk kategori brown spot\n",
        "img_brown_spot = []\n",
        "for img_brown in glob.glob('/content/drive/MyDrive/PCVK/UAS/Brown spot/*.jpg'):\n",
        "  n = cv2.imread(img_brown)\n",
        "  img_brown_spot.append(n)"
      ],
      "execution_count": null,
      "outputs": []
    },
    {
      "cell_type": "code",
      "metadata": {
        "colab": {
          "base_uri": "https://localhost:8080/",
          "height": 90
        },
        "id": "AiIPS6FD4KdV",
        "outputId": "081813b4-2b5a-4407-ce69-13060dbd6159"
      },
      "source": [
        "# beri gaussian smoothing u/ memperbaiki kualitas citra\n",
        "# ubah citra ke grayscale\n",
        "leafsmut_gaussian = []\n",
        "bacterial_gaussian = []\n",
        "brownspot_gaussian = []\n",
        "\n",
        "for i in range(len(img_leafsmut)):\n",
        "  leafsmut_gaussian = cv2.GaussianBlur(img_leafsmut[i],(3,3),0)\n",
        "  gray_leafsmut = cv2.cvtColor(leafsmut_gaussian, cv2.COLOR_BGR2GRAY)\n",
        "\n",
        "  # Deteksi Tepi Sobel\n",
        "  # obtaining a horizontal and vertical Sobel filtering of the image\n",
        "  smut_sobelx = cv2.Sobel(gray_leafsmut, cv2.CV_64F, 1, 0, ksize=3)\n",
        "  smut_sobely = cv2.Sobel(gray_leafsmut, cv2.CV_64F, 0, 1, ksize=3)\n",
        "\n",
        "  # image with both horizontal and vertical Sobel kernels applied\n",
        "  smut_sobelxy = cv2.addWeighted(cv2.convertScaleAbs(smut_sobelx), 0.5, cv2.convertScaleAbs(smut_sobely), 0.5, 0)\n",
        "\n",
        "\n",
        "for i in range(len(img_bacterial)):\n",
        "  bacterial_gaussian = cv2.GaussianBlur(img_bacterial[i],(3,3),0)\n",
        "  gray_bacterial = cv2.cvtColor(bacterial_gaussian, cv2.COLOR_BGR2GRAY)\n",
        "\n",
        "  # Deteksi Tepi Sobel\n",
        "  # obtaining a horizontal and vertical Sobel filtering of the image\n",
        "  bact_sobelx = cv2.Sobel(gray_bacterial, cv2.CV_64F, 1, 0, ksize=3)\n",
        "  bact_sobely = cv2.Sobel(gray_bacterial, cv2.CV_64F, 0, 1, ksize=3)\n",
        "\n",
        "  # image with both horizontal and vertical Sobel kernels applied\n",
        "  bact_sobelxy = cv2.addWeighted(cv2.convertScaleAbs(bact_sobelx), 0.5, cv2.convertScaleAbs(bact_sobely), 0.5, 0)\n",
        "\n",
        "for i in range(len(img_brown_spot)):\n",
        "  brownspot_gaussian = cv2.GaussianBlur(img_brown_spot[i],(3,3),0)\n",
        "  gray_brownspot = cv2.cvtColor(brownspot_gaussian, cv2.COLOR_BGR2GRAY)\n",
        "\n",
        "  # Deteksi Tepi Sobel\n",
        "  # obtaining a horizontal and vertical Sobel filtering of the image\n",
        "  brownspot_sobelx = cv2.Sobel(gray_brownspot, cv2.CV_64F, 1, 0, ksize=3)\n",
        "  brownspot_sobely = cv2.Sobel(gray_brownspot, cv2.CV_64F, 0, 1, ksize=3)\n",
        "\n",
        "  # image with both horizontal and vertical Sobel kernels applied\n",
        "  brownspot_sobelxy = cv2.addWeighted(cv2.convertScaleAbs(brownspot_sobelx), 0.5, cv2.convertScaleAbs(brownspot_sobely), 0.5, 0)\n",
        "\n",
        "f, axarr = plt. subplots(1,3,figsize=(8,8))\n",
        "plt.subplot(131),plt.imshow(smut_sobelxy, cmap = 'gray')\n",
        "plt.subplot(132),plt.imshow(bact_sobelxy,cmap = 'gray')\n",
        "plt.subplot(133),plt.imshow(brownspot_sobelxy,cmap = 'gray')\n",
        "plt.show()"
      ],
      "execution_count": null,
      "outputs": [
        {
          "output_type": "display_data",
          "data": {
            "image/png": "[encoded data removed]",
            "text/plain": [
              "<Figure size 576x576 with 3 Axes>"
            ]
          },
          "metadata": {
            "tags": [],
            "needs_background": "light"
          }
        }
      ]
    },
    {
      "cell_type": "code",
      "metadata": {
        "id": "OYFJTZh16i47"
      },
      "source": [
        "#Operasi Morfologi – Dilasi\n",
        "\n",
        "img = cv2.imread('/content/drive/MyDrive/PCVK/UAS/Brown spot/*.jpg',0)\n",
        "ret, thresh = cv2.threshold(img, 127, 225, cv2.THRESH_BINARY)\n",
        "kernel = np.ones((5,5),np.uint8)\n",
        "dilasi = cv2.dilate(thresh,kernel,iterations = 1)\n",
        " \n",
        "plt.subplot(131),plt.imshow(img,cmap = 'gray')\n",
        "plt.title('Citra Awal'), plt.xticks([]), plt.yticks([])\n",
        "plt.subplot(132),plt.imshow(thresh,cmap = 'gray')\n",
        "plt.title('Citra Biner'), plt.xticks([]), plt.yticks([])\n",
        "plt.subplot(133),plt.imshow(dilasi,cmap = 'gray')\n",
        "plt.title('Hasil Dilasi'), plt.xticks([]), plt.yticks([])\n",
        "plt.show()"
      ],
      "execution_count": null,
      "outputs": []
    },
    {
      "cell_type": "code",
      "metadata": {
        "id": "1zvGhSfPQmRb"
      },
      "source": [
        ""
      ],
      "execution_count": null,
      "outputs": []
    }
  ]
}